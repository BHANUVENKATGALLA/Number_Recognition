{
 "cells": [
  {
   "cell_type": "code",
   "execution_count": null,
   "id": "8289b88d",
   "metadata": {},
   "outputs": [],
   "source": []
  },
  {
   "cell_type": "code",
   "execution_count": 2,
   "id": "05075b54",
   "metadata": {},
   "outputs": [],
   "source": [
    "import numpy as np\n",
    "import tensorflow as tf\n",
    "from tensorflow import keras\n",
    "from tensorflow.keras import layers\n",
    "import matplotlib.pyplot as plt\n"
   ]
  },
  {
   "cell_type": "code",
   "execution_count": 3,
   "id": "406cb562",
   "metadata": {},
   "outputs": [],
   "source": [
    "# Load the MNIST dataset\n",
    "mnist = keras.datasets.mnist\n",
    "(train_images, train_labels), (test_images, test_labels) = mnist.load_data()\n",
    "\n",
    "# Normalize the pixel values to the range [0, 1]\n",
    "train_images, test_images = train_images / 255.0, test_images / 255.0\n"
   ]
  },
  {
   "cell_type": "code",
   "execution_count": 4,
   "id": "06115f1b",
   "metadata": {},
   "outputs": [],
   "source": [
    "model = keras.Sequential([\n",
    "    keras.layers.Flatten(input_shape=(28, 28)),  # Flatten the input images\n",
    "    keras.layers.Dense(128, activation='relu'),  # First hidden layer with ReLU activation\n",
    "    keras.layers.Dropout(0.2),                   # Dropout layer to reduce overfitting\n",
    "    keras.layers.Dense(10, activation='softmax') # Output layer with softmax activation\n",
    "])\n"
   ]
  },
  {
   "cell_type": "code",
   "execution_count": 5,
   "id": "c0b8b2d1",
   "metadata": {},
   "outputs": [],
   "source": [
    "model.compile(optimizer='adam',\n",
    "              loss='sparse_categorical_crossentropy',\n",
    "              metrics=['accuracy'])\n"
   ]
  },
  {
   "cell_type": "code",
   "execution_count": 6,
   "id": "40675a04",
   "metadata": {},
   "outputs": [
    {
     "name": "stdout",
     "output_type": "stream",
     "text": [
      "Epoch 1/5\n",
      "1875/1875 [==============================] - 17s 8ms/step - loss: 0.2950 - accuracy: 0.9137\n",
      "Epoch 2/5\n",
      "1875/1875 [==============================] - 13s 7ms/step - loss: 0.1422 - accuracy: 0.9582\n",
      "Epoch 3/5\n",
      "1875/1875 [==============================] - 12s 7ms/step - loss: 0.1093 - accuracy: 0.9680\n",
      "Epoch 4/5\n",
      "1875/1875 [==============================] - 12s 7ms/step - loss: 0.0902 - accuracy: 0.9727\n",
      "Epoch 5/5\n",
      "1875/1875 [==============================] - 14s 7ms/step - loss: 0.0750 - accuracy: 0.9760\n"
     ]
    },
    {
     "data": {
      "text/plain": [
       "<keras.src.callbacks.History at 0x174454849a0>"
      ]
     },
     "execution_count": 6,
     "metadata": {},
     "output_type": "execute_result"
    }
   ],
   "source": [
    "model.fit(train_images, train_labels, epochs=5)  # You can adjust the number of epochs\n"
   ]
  },
  {
   "cell_type": "code",
   "execution_count": 7,
   "id": "ca59e9f1",
   "metadata": {},
   "outputs": [
    {
     "name": "stdout",
     "output_type": "stream",
     "text": [
      "313/313 [==============================] - 1s 4ms/step - loss: 0.0693 - accuracy: 0.9780\n",
      "Test accuracy: 0.9779999852180481\n"
     ]
    }
   ],
   "source": [
    "test_loss, test_acc = model.evaluate(test_images, test_labels)\n",
    "print(f\"Test accuracy: {test_acc}\")\n"
   ]
  },
  {
   "cell_type": "code",
   "execution_count": 16,
   "id": "df775446",
   "metadata": {},
   "outputs": [
    {
     "name": "stdout",
     "output_type": "stream",
     "text": [
      "1/1 [==============================] - 0s 44ms/step\n",
      "Predicted digit: 5\n"
     ]
    },
    {
     "data": {
      "image/png": "[encoded data removed]",
      "text/plain": [
       "<Figure size 640x480 with 1 Axes>"
      ]
     },
     "metadata": {},
     "output_type": "display_data"
    }
   ],
   "source": [
    "from PIL import Image\n",
    "\n",
    "# Load your scanned image\n",
    "scanned_image = Image.open(\"C:/Users/hp/OneDrive/Pictures/scannedimage.png\")\n",
    "\n",
    "# Preprocess the image (resize and normalize)\n",
    "scanned_image = scanned_image.resize((28, 28))\n",
    "scanned_image = np.array(scanned_image) / 255.0\n",
    "\n",
    "# Make a prediction\n",
    "predictions = model.predict(np.expand_dims(scanned_image, axis=0))\n",
    "predicted_digit = np.argmax(predictions)\n",
    "\n",
    "# Display the predicted digit\n",
    "print(f\"Predicted digit: {predicted_digit}\")\n",
    "\n",
    "# Display the scanned image\n",
    "plt.imshow(scanned_image, cmap=plt.cm.binary)\n",
    "plt.show()\n"
   ]
  },
  {
   "cell_type": "code",
   "execution_count": 15,
   "id": "3ce854c5",
   "metadata": {},
   "outputs": [
    {
     "name": "stdout",
     "output_type": "stream",
     "text": [
      "1/1 [==============================] - 0s 45ms/step\n",
      "Predicted digit: 5\n"
     ]
    },
    {
     "data": {
      "image/png": "[encoded data removed]",
      "text/plain": [
       "<Figure size 640x480 with 1 Axes>"
      ]
     },
     "metadata": {},
     "output_type": "display_data"
    }
   ],
   "source": [
    "from PIL import Image\n",
    "import numpy as np\n",
    "import matplotlib.pyplot as plt\n",
    "\n",
    "# Load your scanned image\n",
    "scanned_image = Image.open(\"C:/Users/hp/OneDrive/Pictures/scannedimage.png\")\n",
    "\n",
    "# Convert the image to grayscale\n",
    "scanned_image = scanned_image.convert(\"L\")\n",
    "\n",
    "# Preprocess the image (resize and normalize)\n",
    "scanned_image = scanned_image.resize((28, 28))\n",
    "scanned_image = np.array(scanned_image) / 255.0\n",
    "\n",
    "# Make a prediction\n",
    "predictions = model.predict(np.expand_dims(scanned_image, axis=0))\n",
    "predicted_digit = np.argmax(predictions)\n",
    "\n",
    "# Display the predicted digit\n",
    "print(f\"Predicted digit: {predicted_digit}\")\n",
    "\n",
    "# Display the scanned image\n",
    "plt.imshow(scanned_image, cmap=plt.cm.binary)\n",
    "plt.show()\n"
   ]
  },
  {
   "cell_type": "code",
   "execution_count": null,
   "id": "d96b2fa3",
   "metadata": {},
   "outputs": [],
   "source": []
  }
 ],
 "metadata": {
  "kernelspec": {
   "display_name": "Python 3 (ipykernel)",
   "language": "python",
   "name": "python3"
  },
  "language_info": {
   "codemirror_mode": {
    "name": "ipython",
    "version": 3
   },
   "file_extension": ".py",
   "mimetype": "text/x-python",
   "name": "python",
   "nbconvert_exporter": "python",
   "pygments_lexer": "ipython3",
   "version": "3.10.9"
  }
 },
 "nbformat": 4,
 "nbformat_minor": 5
}
